{
 "cells": [
  {
   "cell_type": "code",
   "execution_count": 2,
   "id": "bd18e22c-1dd5-47d5-9118-3f13e34ed94c",
   "metadata": {},
   "outputs": [
    {
     "name": "stdout",
     "output_type": "stream",
     "text": [
      "heart.csv file created with 498 rows.\n"
     ]
    }
   ],
   "source": [
    "import pandas as pd\n",
    "import numpy as np\n",
    "\n",
    "np.random.seed(27)\n",
    "\n",
    "n = 498\n",
    "\n",
    "biking = np.random.normal(loc=37.788, scale=15, size=n)\n",
    "smoking = np.random.normal(loc=15.4350, scale=7, size=n)\n",
    "heart_disease = np.random.normal(loc=10.1745, scale=4, size=n)\n",
    "\n",
    "biking = np.clip(biking, 1.119, 74.907)\n",
    "smoking = np.clip(smoking, 0.5259, 29.9467)\n",
    "heart_disease = np.clip(heart_disease, 0.5519, 20.4535)\n",
    "\n",
    "df = pd.DataFrame({\n",
    "    'biking': biking,\n",
    "    'smoking': smoking,\n",
    "    'heart.disease': heart_disease\n",
    "})\n",
    "\n",
    "df.to_csv('heart.csv', index=False)\n",
    "print(\"heart.csv file created with 498 rows.\")\n"
   ]
  },
  {
   "cell_type": "code",
   "execution_count": null,
   "id": "b9ca6caf-645d-46a8-b418-e6c2bfef39a1",
   "metadata": {},
   "outputs": [],
   "source": []
  }
 ],
 "metadata": {
  "kernelspec": {
   "display_name": "Python 3 (ipykernel)",
   "language": "python",
   "name": "python3"
  },
  "language_info": {
   "codemirror_mode": {
    "name": "ipython",
    "version": 3
   },
   "file_extension": ".py",
   "mimetype": "text/x-python",
   "name": "python",
   "nbconvert_exporter": "python",
   "pygments_lexer": "ipython3",
   "version": "3.11.7"
  }
 },
 "nbformat": 4,
 "nbformat_minor": 5
}
