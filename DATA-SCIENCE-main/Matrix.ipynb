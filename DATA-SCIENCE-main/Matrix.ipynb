{
 "cells": [
  {
   "cell_type": "code",
   "execution_count": 6,
   "id": "ca8a177b-6bfc-49d0-9377-13fa82919860",
   "metadata": {},
   "outputs": [
    {
     "name": "stdout",
     "output_type": "stream",
     "text": [
      "Addidtion:\n",
      " [[ 6  8]\n",
      " [10 12]]\n",
      "\n",
      "Subtraction=\n",
      " [[-4 -4]\n",
      " [-4 -4]]\n",
      "\n",
      "Mutliplication=\n",
      " [[ 5 12]\n",
      " [21 32]]\n",
      "\n",
      "Division=\n",
      " [[0.2        0.33333333]\n",
      " [0.42857143 0.5       ]]\n",
      "\n",
      "Dot product:\n",
      " [[19 22]\n",
      " [43 50]]\n",
      "\n",
      "Transpose of A:\n",
      " [[1 3]\n",
      " [2 4]]\n",
      "\n",
      "Transpose of B:\n",
      " [[5 7]\n",
      " [6 8]]\n"
     ]
    }
   ],
   "source": [
    "import numpy as np\n",
    "A=np.array([[1,2],[3,4]])\n",
    "B=np.array([[5,6],[7,8]])\n",
    "addition=A+B\n",
    "print(\"Addidtion:\\n\",addition)\n",
    "subtraction=A-B\n",
    "print(\"\\nSubtraction=\\n\",subtraction)\n",
    "multiplication=A*B\n",
    "print(\"\\nMutliplication=\\n\",multiplication)\n",
    "division=A/B\n",
    "print(\"\\nDivision=\\n\",division)\n",
    "dot_pro=np.dot(A,B)\n",
    "print(\"\\nDot product:\\n\",dot_pro)\n",
    "trans_A=A.T\n",
    "print(\"\\nTranspose of A:\\n\",trans_A)\n",
    "trans_B=B.T\n",
    "print(\"\\nTranspose of B:\\n\",trans_B)\n"
   ]
  },
  {
   "cell_type": "code",
   "execution_count": null,
   "id": "4464a769-2c99-4c71-9eeb-8e3e21fb901c",
   "metadata": {},
   "outputs": [],
   "source": []
  }
 ],
 "metadata": {
  "kernelspec": {
   "display_name": "Python 3 (ipykernel)",
   "language": "python",
   "name": "python3"
  },
  "language_info": {
   "codemirror_mode": {
    "name": "ipython",
    "version": 3
   },
   "file_extension": ".py",
   "mimetype": "text/x-python",
   "name": "python",
   "nbconvert_exporter": "python",
   "pygments_lexer": "ipython3",
   "version": "3.11.7"
  }
 },
 "nbformat": 4,
 "nbformat_minor": 5
}
