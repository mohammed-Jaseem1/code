{
 "cells": [
  {
   "cell_type": "code",
   "execution_count": 6,
   "id": "2bb7ba44",
   "metadata": {},
   "outputs": [
    {
     "name": "stdout",
     "output_type": "stream",
     "text": [
      "Enter numbers separated by spaces: 2 5 3 466 12 \n",
      "The list is: [2, 5, 3, 466, 12]\n",
      "Largest number is: 466\n"
     ]
    }
   ],
   "source": [
    "a = input(\"Enter numbers separated by spaces: \")\n",
    "n = list(map(int, a.split()))\n",
    "print(\"The list is:\", n)\n",
    "\n",
    "largest = n[0]\n",
    "for num in n:\n",
    "    if num > largest:\n",
    "        largest = num  \n",
    "\n",
    "print(\"Largest number is:\", largest)\n"
   ]
  },
  {
   "cell_type": "code",
   "execution_count": 8,
   "id": "b5e302f1",
   "metadata": {},
   "outputs": [
    {
     "name": "stdout",
     "output_type": "stream",
     "text": [
      "Enter numbers separated by spaces: 5 7 9\n",
      "The list is: [5, 7, 9]\n",
      "Largest is: 9\n"
     ]
    }
   ],
   "source": [
    "a = input(\"Enter numbers separated by spaces: \")\n",
    "n = list(map(int, a.split()))\n",
    "print(\"The list is:\", n)\n",
    "\n",
    "largest=max(n)\n",
    "print(\"Largest is:\",largest)"
   ]
  },
  {
   "cell_type": "code",
   "execution_count": 10,
   "id": "935d8370",
   "metadata": {},
   "outputs": [
    {
     "name": "stdout",
     "output_type": "stream",
     "text": [
      "first list is: [1, 2, 4, 3, 3, 5, 2]\n",
      "after removing duplicates: [1, 2, 3, 4, 5]\n"
     ]
    }
   ],
   "source": [
    "a = [1,2,4,3,3,5,2]\n",
    "new = list(set(a))\n",
    "print(\"first list is:\",a)\n",
    "print(\"after removing duplicates:\",new)"
   ]
  },
  {
   "cell_type": "code",
   "execution_count": 11,
   "id": "f82d7a60",
   "metadata": {},
   "outputs": [
    {
     "name": "stdout",
     "output_type": "stream",
     "text": [
      "Dictionary is: {'a': 'apple', 'b': 'ball', 'c': 'cat'}\n"
     ]
    }
   ],
   "source": [
    "a=(('a','apple'),('b','ball'),('c','cat'))\n",
    "final=dict(a)\n",
    "print(\"Dictionary is:\",final)"
   ]
  },
  {
   "cell_type": "code",
   "execution_count": 13,
   "id": "0e62db66",
   "metadata": {},
   "outputs": [
    {
     "name": "stdout",
     "output_type": "stream",
     "text": [
      "Enter first list:4 5 6\n",
      "Enter second list:2 4 6\n",
      "the list have atleast one common member: True\n"
     ]
    }
   ],
   "source": [
    "a = input(\"Enter first list:\")\n",
    "l1 = list(map(int,a.split()))\n",
    "b = input(\"Enter second list:\") \n",
    "l2 = list(map(int,b.split()))\n",
    "final = bool(set(l1) & set(l2))\n",
    "\n",
    "print(\"the list have atleast one common member:\",final)"
   ]
  },
  {
   "cell_type": "code",
   "execution_count": null,
   "id": "6ba890c9",
   "metadata": {},
   "outputs": [],
   "source": []
  }
 ],
 "metadata": {
  "kernelspec": {
   "display_name": "Python 3 (ipykernel)",
   "language": "python",
   "name": "python3"
  },
  "language_info": {
   "codemirror_mode": {
    "name": "ipython",
    "version": 3
   },
   "file_extension": ".py",
   "mimetype": "text/x-python",
   "name": "python",
   "nbconvert_exporter": "python",
   "pygments_lexer": "ipython3",
   "version": "3.10.12"
  }
 },
 "nbformat": 4,
 "nbformat_minor": 5
}
