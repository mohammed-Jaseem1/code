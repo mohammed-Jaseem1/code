{
 "cells": [
  {
   "cell_type": "code",
   "execution_count": 1,
   "id": "29046eb8-a4b7-4349-977b-d512c4934d60",
   "metadata": {},
   "outputs": [
    {
     "name": "stdout",
     "output_type": "stream",
     "text": [
      "✅ insurance.csv created (sample with 10 rows)\n"
     ]
    }
   ],
   "source": [
    "import pandas as pd\n",
    "\n",
    "# Sample insurance dataset (same as on Kaggle)\n",
    "data = {\n",
    "    \"age\": [19, 18, 28, 33, 32, 31, 46, 37, 37, 60],\n",
    "    \"sex\": [\"female\", \"male\", \"male\", \"male\", \"male\", \"female\", \"female\", \"female\", \"male\", \"female\"],\n",
    "    \"bmi\": [27.9, 33.77, 33.0, 22.705, 28.88, 25.74, 33.44, 27.74, 29.83, 25.84],\n",
    "    \"children\": [0, 1, 3, 0, 0, 0, 1, 3, 2, 0],\n",
    "    \"smoker\": [\"yes\", \"no\", \"no\", \"no\", \"no\", \"no\", \"no\", \"no\", \"no\", \"no\"],\n",
    "    \"region\": [\"southwest\", \"southeast\", \"southeast\", \"northwest\", \"northwest\", \"southeast\", \"southeast\", \"northwest\", \"northeast\", \"northwest\"],\n",
    "    \"charges\": [16884.924, 1725.5523, 4449.462, 21984.47061, 3866.8552, 3756.6216, 8240.5896, 7281.5056, 6406.4107, 28923.13692]\n",
    "}\n",
    "\n",
    "# Convert to DataFrame\n",
    "df = pd.DataFrame(data)\n",
    "\n",
    "# Save as CSV\n",
    "df.to_csv(\"insurance.csv\", index=False)\n",
    "\n",
    "print(\"✅ insurance.csv created (sample with 10 rows)\")\n"
   ]
  },
  {
   "cell_type": "code",
   "execution_count": 2,
   "id": "cb8a9fb6-0284-4ac9-a5b1-7c4f808bf58f",
   "metadata": {},
   "outputs": [
    {
     "name": "stdout",
     "output_type": "stream",
     "text": [
      "\n",
      "Model Evaluation:\n",
      "Mean Squared Error (MSE): 104733289.58\n",
      "Root Mean Squared Error (RMSE): 10233.93\n",
      "\n",
      "Model Coefficients:\n",
      "Intercept: 14504.77\n",
      "Coefficients (age, sex, bmi, children, smoker, region): [ 1137.3830832  13498.45474347 -2319.26935523  2471.80043117\n",
      " 23521.6222763   7318.62410017]\n"
     ]
    }
   ],
   "source": [
    "# Import necessary libraries\n",
    "import pandas as pd\n",
    "import numpy as np\n",
    "from sklearn.model_selection import train_test_split\n",
    "from sklearn.linear_model import LinearRegression\n",
    "from sklearn.metrics import mean_squared_error\n",
    "from sklearn.preprocessing import LabelEncoder\n",
    "\n",
    "# Load dataset\n",
    "data = pd.read_csv(\"insurance.csv\")\n",
    "\n",
    "# Encode categorical variables\n",
    "le_sex = LabelEncoder()\n",
    "le_smoker = LabelEncoder()\n",
    "le_region = LabelEncoder()\n",
    "\n",
    "data['sex'] = le_sex.fit_transform(data['sex'])         # male=1, female=0\n",
    "data['smoker'] = le_smoker.fit_transform(data['smoker']) # yes=1, no=0\n",
    "data['region'] = le_region.fit_transform(data['region']) # 0–3 categories\n",
    "\n",
    "# Independent variables (X) and dependent variable (y)\n",
    "X = data[['age', 'sex', 'bmi', 'children', 'smoker', 'region']]\n",
    "y = data['charges']\n",
    "\n",
    "# Train/test split\n",
    "X_train, X_test, y_train, y_test = train_test_split(X, y, test_size=0.2, random_state=42)\n",
    "\n",
    "# Train model\n",
    "model = LinearRegression()\n",
    "model.fit(X_train, y_train)\n",
    "\n",
    "# Predictions\n",
    "y_pred = model.predict(X_test)\n",
    "\n",
    "# Evaluation metrics\n",
    "mse = mean_squared_error(y_test, y_pred)\n",
    "rmse = np.sqrt(mse)\n",
    "\n",
    "# Print results\n",
    "print(\"\\nModel Evaluation:\")\n",
    "print(f\"Mean Squared Error (MSE): {mse:.2f}\")\n",
    "print(f\"Root Mean Squared Error (RMSE): {rmse:.2f}\")\n",
    "\n",
    "# Print coefficients\n",
    "print(\"\\nModel Coefficients:\")\n",
    "print(f\"Intercept: {model.intercept_:.2f}\")\n",
    "print(f\"Coefficients (age, sex, bmi, children, smoker, region): {model.coef_}\")\n"
   ]
  },
  {
   "cell_type": "code",
   "execution_count": null,
   "id": "6e854d60-fbf7-46cb-ba6d-f58b777601ee",
   "metadata": {},
   "outputs": [],
   "source": []
  }
 ],
 "metadata": {
  "kernelspec": {
   "display_name": "Python 3 (ipykernel)",
   "language": "python",
   "name": "python3"
  },
  "language_info": {
   "codemirror_mode": {
    "name": "ipython",
    "version": 3
   },
   "file_extension": ".py",
   "mimetype": "text/x-python",
   "name": "python",
   "nbconvert_exporter": "python",
   "pygments_lexer": "ipython3",
   "version": "3.11.7"
  }
 },
 "nbformat": 4,
 "nbformat_minor": 5
}
